{
 "cells": [
  {
   "cell_type": "markdown",
   "metadata": {
    "collapsed": true
   },
   "source": [
    "# 第四周作业 模板 （<--换成自己的题目）"
   ]
  },
  {
   "cell_type": "markdown",
   "metadata": {},
   "source": [
    "---\n",
    "**摘要**：...\n",
    "此处你需要简单介绍自己的工作。用简洁的话说清楚你的解决方案中的核心以及亮点、创新点。尽量不要有评论性的言语或补充解释。\n"
   ]
  },
  {
   "cell_type": "markdown",
   "metadata": {},
   "source": [
    "## 问题及数据集描述\n",
    "...\n"
   ]
  },
  {
   "cell_type": "markdown",
   "metadata": {},
   "source": [
    "### 请随意添加 cells"
   ]
  },
  {
   "cell_type": "markdown",
   "metadata": {},
   "source": [
    "---\n",
    "## 算法原理\n",
    "\n",
    "### 算法xxx\n",
    "\n",
    "### 算法xxx\n",
    "...\n",
    "\n",
    "\n",
    "讲述你的解决方案中以及探索过程中所用到算法及其原理。我们希望你在学习过程中就有记录笔记。可以整理后把对应放到此处。算法原理至少包含下述内容：\n",
    "\n",
    "- 输入和输出\n",
    "- 原理（包含公式）\n",
    "- 算法所涉及的超参数所代表的含义、作用。尤其是在你的解决方案中涉及到的参数。对于这些超参数的值，你如何设定它们的值，改变这些值会对模型造成怎样的影响？\n",
    "- 算法的优点、缺点\n",
    "- 对于算法中你还不理解的地方，也应该写下来。在下周的例会中，我们会尽量做出解答\n",
    "\n",
    "在notebook中，可以用[latex数学公式](https://zh.wikipedia.org/wiki/Help:%E6%95%B0%E5%AD%A6%E5%85%AC%E5%BC%8F)！下面是一些例子：\n",
    "\n",
    "1.\n",
    "$x = 5$\n",
    "\n",
    "2.\n",
    "$\\mathbb{R}^{|\\it{V}|*1}$  \n",
    "\n",
    "3.\n",
    "$\\frac{\\sum^k_{i=1}\\sigma_i}{\\sum^{|\\it{V}|}_{i=1}\\sigma_i}$ \n",
    "\n",
    "4.\n",
    "$$P(w_1,w_2,...,w_n)=\\prod^n_{i=2}P(w_i|w_{i-1})$$\n",
    "\n",
    "5.\n",
    "$$\\begin{split}\n",
    "\\rm{minimize} \\ \\it{J} &= -\\log P(w_c|w_{c-m},...,w_{c+m}) \\\\\n",
    "&= -\\log P(u_c|\\widehat{v}) \\\\\n",
    "&= -\\log \\frac{\\exp(u^T_c\\widehat{v})}{\\sum_{j=1}^{|V|}\\exp(u^T_j\\widehat{v})} \\\\\n",
    "&= -u^T_c\\widehat{v} + \\log\\sum_{j=1}^{|V|}\\exp(u^T_j\\widehat{v})\n",
    "\\end{split}$$"
   ]
  },
  {
   "cell_type": "markdown",
   "metadata": {
    "collapsed": false
   },
   "source": [
    "---\n",
    "## 解决方案\n",
    "...\n",
    "\n",
    "详细的描述你对井字棋分类问题的具体解决方案。我们也建议你记录下整个探索过程，包括没有用在最终解决方案中的模型。模型的执行过程，以及过程中遇到的困难的描述应该清晰明了地记录和描述。\n",
    "\n",
    "要考虑下列问题：\n",
    "- 你所用到的算法和技术执行的方式是否清晰记录了？\n",
    "- 在运用上面所提及的技术及指标的执行过程中是否遇到了困难，是否需要作出改动来得到想要的结果？\n",
    "- 是否有需要重点解释的代码片段(例如复杂的函数）？"
   ]
  },
  {
   "cell_type": "markdown",
   "metadata": {
    "collapsed": true
   },
   "source": [
    "## 实验结果\n",
    "\n",
    "实验的结果，以及分析。\n",
    "\n",
    "如果你尝试了多个模型，你可以用表格的形式呈现。\n",
    "\n",
    "下图是示例，请根据自己的情况修改。\n",
    "\n",
    "| 模型 | Local F1 score | Public Leaderboard |\n",
    "| --- | --- | --- |\n",
    "| ID3 决策树  |  |  |\n",
    "| XGBoost |  |  |\n",
    "| Random Forest |  |  |\n",
    "| Ensemble |  | -  |\n",
    "\n"
   ]
  },
  {
   "cell_type": "markdown",
   "metadata": {},
   "source": [
    "## 总结\n",
    "\n",
    "总结自己的工作，思考现有模型存在的问题，并指出可能的改进方法； "
   ]
  },
  {
   "cell_type": "markdown",
   "metadata": {},
   "source": [
    "## 代码\n",
    "\n",
    "请把你的代码整理后放到下面。"
   ]
  },
  {
   "cell_type": "code",
   "execution_count": null,
   "metadata": {
    "collapsed": true
   },
   "outputs": [],
   "source": [
    "# code"
   ]
  },
  {
   "cell_type": "code",
   "execution_count": null,
   "metadata": {
    "collapsed": true
   },
   "outputs": [],
   "source": [
    "# code"
   ]
  },
  {
   "cell_type": "code",
   "execution_count": null,
   "metadata": {
    "collapsed": true
   },
   "outputs": [],
   "source": [
    "# code"
   ]
  },
  {
   "cell_type": "code",
   "execution_count": null,
   "metadata": {
    "collapsed": true
   },
   "outputs": [],
   "source": [
    "# code"
   ]
  },
  {
   "cell_type": "code",
   "execution_count": null,
   "metadata": {
    "collapsed": true
   },
   "outputs": [],
   "source": [
    "# code"
   ]
  },
  {
   "cell_type": "code",
   "execution_count": null,
   "metadata": {
    "collapsed": true
   },
   "outputs": [],
   "source": []
  }
 ],
 "metadata": {
  "kernelspec": {
   "display_name": "Python 2",
   "language": "python",
   "name": "python2"
  },
  "language_info": {
   "codemirror_mode": {
    "name": "ipython",
    "version": 2
   },
   "file_extension": ".py",
   "mimetype": "text/x-python",
   "name": "python",
   "nbconvert_exporter": "python",
   "pygments_lexer": "ipython2",
   "version": "2.7.13"
  }
 },
 "nbformat": 4,
 "nbformat_minor": 2
}
